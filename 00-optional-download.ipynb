{
 "cells": [
  {
   "cell_type": "markdown",
   "metadata": {
    "id": "VFYLPs4WKWO4",
    "tags": []
   },
   "source": [
    "# Download data (optional)\n",
    "This notebook downloads the original data from www.sciencebase.gov and reformats it as a netcdf that can be used with the demo notebook."
   ]
  },
  {
   "cell_type": "code",
   "execution_count": 1,
   "metadata": {},
   "outputs": [],
   "source": [
    "# download reference basin data from ScienceBase (~1300 streamgages)\n",
    "\n",
    "!mkdir data\n",
    "# get region 01\n",
    "!wget -qO region.zip https://www.sciencebase.gov/catalog/file/get/5df2c29ee4b02caea0f95b92?f=__disk__eb%2F73%2Fcf%2Feb73cf51266a0cb990a244ccf2a6a4156bd6accd && unzip -q region.zip -d data/ && rm region.zip\n",
    "# get region 02\n",
    "!wget -qO region.zip https://www.sciencebase.gov/catalog/file/get/5df2c29ee4b02caea0f95b92?f=__disk__a2%2F48%2Fa2%2Fa248a28081ffaf8a74ba60253528ca18bbab6605 && unzip -q region.zip -d data/ && rm region.zip\n",
    "# get region 03\n",
    "!wget -qO region.zip https://www.sciencebase.gov/catalog/file/get/5df2c29ee4b02caea0f95b92?f=__disk__d5%2F0c%2Fae%2Fd50caef7285822e71405ede6a6e35d19f318524e && unzip -q region.zip -d data/ && rm region.zip\n",
    "# get region 04\n",
    "!wget -qO region.zip https://www.sciencebase.gov/catalog/file/get/5df2c29ee4b02caea0f95b92?f=__disk__b9%2F30%2F96%2Fb9309632cdd389fccd5de48002f588832852e4fa && unzip -q region.zip -d data/ && rm region.zip\n",
    "# get region 05\n",
    "!wget -qO region.zip https://www.sciencebase.gov/catalog/file/get/5df2c29ee4b02caea0f95b92?f=__disk__d2%2Fd7%2F7b%2Fd2d77b77b7616457a129d462ebbadc06c4a68c95 && unzip -q region.zip -d data/ && rm region.zip\n",
    "# get region 06\n",
    "!wget -qO region.zip https://www.sciencebase.gov/catalog/file/get/5df2c29ee4b02caea0f95b92?f=__disk__70%2Fda%2F7d%2F70da7d763c50cc9b81a0b952bd533b97853226c4 && unzip -q region.zip -d data/ && rm region.zip\n",
    "# get region 07\n",
    "!wget -qO region.zip https://www.sciencebase.gov/catalog/file/get/5df2c29ee4b02caea0f95b92?f=__disk__e0%2Fc4%2F85%2Fe0c4853a9c9eeb01825d162ae18243617f6a0e32 && unzip -q region.zip -d data/ && rm region.zip\n",
    "# get region 08\n",
    "!wget -qO region.zip https://www.sciencebase.gov/catalog/file/get/5df2c29ee4b02caea0f95b92?f=__disk__40%2F07%2F3c%2F40073cf80476c226ac01ec54907fd9e642b6ef76 && unzip -q region.zip -d data/ && rm region.zip\n",
    "# get region 09\n",
    "!wget -qO region.zip https://www.sciencebase.gov/catalog/file/get/5df2c29ee4b02caea0f95b92?f=__disk__33%2F4c%2F8d%2F334c8db92d8de369689af715beb74d38c68dde26 && unzip -q region.zip -d data/ && rm region.zip\n",
    "# get region 10L\n",
    "!wget -qO region.zip https://www.sciencebase.gov/catalog/file/get/5df2c29ee4b02caea0f95b92?f=__disk__3a%2F17%2F48%2F3a1748af3b1dc0a6a8e0da1403ec2f320f4d94e0 && unzip -q region.zip -d data/ && rm region.zip\n",
    "# get region 10U\n",
    "!wget -qO region.zip https://www.sciencebase.gov/catalog/file/get/5df2c29ee4b02caea0f95b92?f=__disk__88%2F8e%2F3a%2F888e3a253bed64ba8022926a378e8a35122f7743 && unzip -q region.zip -d data/ && rm region.zip\n",
    "\n",
    "# get region 11\n",
    "!wget -qO region.zip https://www.sciencebase.gov/catalog/file/get/5df2c29ee4b02caea0f95b92?f=__disk__5c%2F27%2Fce%2F5c27cec01108eb56c98c76737da03eccb552cf95 && unzip -q region.zip -d data/ && rm region.zip\n",
    "# get region 12\n",
    "!wget -qO region.zip https://www.sciencebase.gov/catalog/file/get/5df2c29ee4b02caea0f95b92?f=__disk__28%2F8b%2Fa4%2F288ba4630340d6f66603666c7d656882efabfe10 && unzip -q region.zip -d data/ && rm region.zip\n",
    "# get region 13\n",
    "!wget -qO region.zip https://www.sciencebase.gov/catalog/file/get/5df2c29ee4b02caea0f95b92?f=__disk__76%2F69%2F98%2F7669982e1c4e03b75f86f6cbe70d51f1fc15d6b6 && unzip -q region.zip -d data/ && rm region.zip\n",
    "# get region 14\n",
    "!wget -qO region.zip https://www.sciencebase.gov/catalog/file/get/5df2c29ee4b02caea0f95b92?f=__disk__3e%2F5c%2F6e%2F3e5c6e61ce7b922edf422b95ddf418cb48f8357c && unzip -q region.zip -d data/ && rm region.zip\n",
    "# get region 15\n",
    "!wget -qO region.zip https://www.sciencebase.gov/catalog/file/get/5df2c29ee4b02caea0f95b92?f=__disk__be%2F34%2Fa5%2Fbe34a50154e26e009f46589a7655f6b53874b789 && unzip -q region.zip -d data/ && rm region.zip\n",
    "# get region 16\n",
    "!wget -qO region.zip https://www.sciencebase.gov/catalog/file/get/5df2c29ee4b02caea0f95b92?f=__disk__cf%2F89%2F8a%2Fcf898a995df060c8e951b0337e2b09c3a72fe3a3 && unzip -q region.zip -d data/ && rm region.zip\n",
    "# get region 17\n",
    "!wget -qO region.zip https://www.sciencebase.gov/catalog/file/get/5df2c29ee4b02caea0f95b92?f=__disk__77%2Fb2%2F37%2F77b237b3a433f64d20de008798b42fac7ebde7dd && unzip -q region.zip -d data/ && rm region.zip\n",
    "# get region 18\n",
    "!wget -qO region.zip https://www.sciencebase.gov/catalog/file/get/5df2c29ee4b02caea0f95b92?f=__disk__3d%2Fb5%2F29%2F3db52973ad481cef60bc96b4b93ed92b08794c56 && unzip -q region.zip -d data/ && rm region.zip"
   ]
  },
  {
   "cell_type": "code",
   "execution_count": null,
   "metadata": {
    "id": "_M9XMRMNqHNV"
   },
   "outputs": [],
   "source": [
    "## download managed basins (additional 5000+ streamgages)\n",
    "\n",
    "#!mkdir data\n",
    "## get region 01\n",
    "#!wget -qO region.zip https://www.sciencebase.gov/catalog/file/get/5efb512e82ced62aaaf057fe?f=__disk__36%2F15%2F02%2F36150249767776bbcff08419cfd8fb484ef5c0ae && unzip -q region.zip -d data/ && rm region.zip\n",
    "## get region 02\n",
    "#!wget -qO region.zip https://www.sciencebase.gov/catalog/file/get/5efb512e82ced62aaaf057fe?f=__disk__2c%2F52%2Fa5%2F2c52a5c1bd6dd26405f18d847baf9bbf036cd2f7 && unzip -q region.zip -d data/ && rm region.zip\n",
    "## get region 03\n",
    "#!wget -qO region.zip https://www.sciencebase.gov/catalog/file/get/5efb512e82ced62aaaf057fe?f=__disk__ab%2F5d%2Fa9%2Fab5da9eac4b417d3a99e4e133f58a5c6062b6991 && unzip -q region.zip -d data/ && rm region.zip\n",
    "## get region 04\n",
    "#!wget -qO region.zip https://www.sciencebase.gov/catalog/file/get/5efb512e82ced62aaaf057fe?f=__disk__58%2Ff5%2Ffe%2F58f5feb3fbf53fe911adb5780cdc3ae68d0e5c0c && unzip -q region.zip -d data/ && rm region.zip\n",
    "## get region 05\n",
    "#!wget -qO region.zip https://www.sciencebase.gov/catalog/file/get/5efb512e82ced62aaaf057fe?f=__disk__ae%2Fdf%2F29%2Faedf29a6dd218f721d3b3c7f8bc8ef4d86c7c3b6 && unzip -q region.zip -d data/ && rm region.zip\n",
    "## get region 06\n",
    "#!wget -qO region.zip https://www.sciencebase.gov/catalog/file/get/5efb512e82ced62aaaf057fe?f=__disk__f2%2F59%2Fa5%2Ff259a5496fa43df606bf6c82a895d55f0d1ebcea && unzip -q region.zip -d data/ && rm region.zip\n",
    "## get region 07\n",
    "#!wget -qO region.zip https://www.sciencebase.gov/catalog/file/get/5efb512e82ced62aaaf057fe?f=__disk__f1%2F00%2F19%2Ff100190e8d4e90cdcbd6623635efd8f23f092b54 && unzip -q region.zip -d data/ && rm region.zip\n",
    "## get region 08\n",
    "#!wget -qO region.zip https://www.sciencebase.gov/catalog/file/get/5efb512e82ced62aaaf057fe?f=__disk__6d%2Fdc%2Feb%2F6ddceb05db941e0f062264bacd3292c20efbf613 && unzip -q region.zip -d data/ && rm region.zip\n",
    "## get region 09\n",
    "#!wget -qO region.zip https://www.sciencebase.gov/catalog/file/get/5efb512e82ced62aaaf057fe?f=__disk__2a%2F85%2Ff0%2F2a85f0ec2600e62f8763f204ef30646fa882f2c5 && unzip -q region.zip -d data/ && rm region.zip\n",
    "## get region 10L\n",
    "#!wget -qO region.zip https://www.sciencebase.gov/catalog/file/get/5efb512e82ced62aaaf057fe?f=__disk__4c%2Fa6%2F36%2F4ca63663fa504002ad5e7cf28fa63d5fe56cd6df && unzip -q region.zip -d data/ && rm region.zip\n",
    "## get region 10U\n",
    "#!wget -qO region.zip https://www.sciencebase.gov/catalog/file/get/5efb512e82ced62aaaf057fe?f=__disk__9f%2F8b%2Ff5%2F9f8bf5aa9bf5b85d7581fc06f0c4f8f4f32a19b7 && unzip -q region.zip -d data/ && rm region.zip\n",
    "#\n",
    "## get region 11\n",
    "#!wget -qO region.zip https://www.sciencebase.gov/catalog/file/get/5efb512e82ced62aaaf057fe?f=__disk__8d%2F59%2F6f%2F8d596ffe116c5dd64748aa20c5a12818ebb114a0 && unzip -q region.zip -d data/ && rm region.zip\n",
    "## get region 12\n",
    "#!wget -qO region.zip https://www.sciencebase.gov/catalog/file/get/5efb512e82ced62aaaf057fe?f=__disk__21%2F9e%2F6f%2F219e6f5ed92b93bc95b474155252209c795f187f && unzip -q region.zip -d data/ && rm region.zip\n",
    "## get region 13\n",
    "#!wget -qO region.zip https://www.sciencebase.gov/catalog/file/get/5efb512e82ced62aaaf057fe?f=__disk__9d%2Ff4%2F92%2F9df492ad421e28a8aabd8cdab14a2a40129e5270 && unzip -q region.zip -d data/ && rm region.zip\n",
    "## get region 14\n",
    "#!wget -qO region.zip https://www.sciencebase.gov/catalog/file/get/5efb512e82ced62aaaf057fe?f=__disk__ad%2F3a%2Fa1%2Fad3aa1ff4f9409726138573806f99bbd646b6b6c && unzip -q region.zip -d data/ && rm region.zip\n",
    "## get region 15\n",
    "#!wget -qO region.zip https://www.sciencebase.gov/catalog/file/get/5efb512e82ced62aaaf057fe?f=__disk__91%2F7b%2F6d%2F917b6dadfd79a3054fe65dcbe5c8b62a81e71b4e && unzip -q region.zip -d data/ && rm region.zip\n",
    "## get region 16\n",
    "#!wget -qO region.zip https://www.sciencebase.gov/catalog/file/get/5efb512e82ced62aaaf057fe?f=__disk__04%2F5c%2F81%2F045c8146ceaf312e5dda0f2fd213bbdc8f0371ca && unzip -q region.zip -d data/ && rm region.zip\n",
    "## get region 17\n",
    "#!wget -qO region.zip https://www.sciencebase.gov/catalog/file/get/5efb512e82ced62aaaf057fe?f=__disk__12%2Fc2%2F5a%2F12c25a6b19ae61cea795b3c656057b9b013e427c && unzip -q region.zip -d data/ && rm region.zip\n",
    "## get region 18\n",
    "#!wget -qO region.zip https://www.sciencebase.gov/catalog/file/get/5efb512e82ced62aaaf057fe?f=__disk__0b%2Fdc%2Fca%2F0bdcca6802799ac1e968b2cc40e7447bb9ecff6e && unzip -q region.zip -d data/ && rm region.zip"
   ]
  },
  {
   "cell_type": "code",
   "execution_count": 2,
   "metadata": {
    "colab": {
     "base_uri": "https://localhost:8080/"
    },
    "id": "KirVuUJ-Kryn",
    "outputId": "09fe8298-2093-49d2-f5c0-d7df7b8fd083"
   },
   "outputs": [
    {
     "name": "stdout",
     "output_type": "stream",
     "text": [
      "finished 0\n",
      "finished 100\n",
      "finished 200\n",
      "finished 300\n",
      "finished 400\n",
      "finished 500\n",
      "finished 600\n",
      "finished 700\n",
      "finished 800\n",
      "finished 900\n",
      "finished 1000\n",
      "finished 1100\n",
      "finished 1200\n",
      "finished 1300\n"
     ]
    }
   ],
   "source": [
    "# Save NNDAR and obs to NetCDF\n",
    "import os\n",
    "import pandas as pd\n",
    "import xarray\n",
    "\n",
    "data_files = os.listdir('data')\n",
    "\n",
    "#df = pd.DataFrame()\n",
    "temp_list = []\n",
    "\n",
    "for i, data_file in enumerate(data_files):\n",
    "    if not (i % 100): print('finished ' + str(i))\n",
    "    temp = pd.read_csv('data/' + data_file, delimiter='\\t')\n",
    "    gage_id = data_file.strip('output_').strip('.txt')\n",
    "    temp['gage_id'] = gage_id\n",
    "    temp = temp[['gage_id','date','obs','NNDAR']].set_index(['gage_id','date'])\n",
    "    temp_list.append(temp)\n",
    "    \n",
    "df = pd.concat(temp_list)\n",
    "\n",
    "#df.to_csv('GAGESII_reference_NNDAR.csv')\n",
    "#ds = xarray.Dataset.from_dataframe(df)\n",
    "df.to_parquet('gages2_nndar.parquet')"
   ]
  },
  {
   "cell_type": "code",
   "execution_count": 3,
   "metadata": {
    "id": "SOr_77FwYRtf"
   },
   "outputs": [],
   "source": [
    "!rm -rf data"
   ]
  },
  {
   "cell_type": "markdown",
   "metadata": {
    "id": "n2cADyyMpDwV"
   },
   "source": [
    "# Create QR code for demo"
   ]
  },
  {
   "cell_type": "code",
   "execution_count": 1,
   "metadata": {},
   "outputs": [],
   "source": [
    "%%capture\n",
    "!pip install \"qrcode[pil]\""
   ]
  },
  {
   "cell_type": "code",
   "execution_count": 7,
   "metadata": {},
   "outputs": [],
   "source": [
    "import qrcode\n",
    "image = qrcode.make('https://code.usgs.gov/wma/hytest/workflow-hodson-2022-objective-benchmark/blob/main/01-objective-benchmark-demo.ipynb').resize((400,400))"
   ]
  },
  {
   "cell_type": "code",
   "execution_count": 8,
   "metadata": {},
   "outputs": [],
   "source": [
    "image.save('objective-benchmark-qrcode.png')"
   ]
  }
 ],
 "metadata": {
  "colab": {
   "collapsed_sections": [],
   "name": "00-rainfall-runoff-prep.ipynb",
   "provenance": []
  },
  "kernelspec": {
   "display_name": "Python 3 (ipykernel)",
   "language": "python",
   "name": "python3"
  },
  "language_info": {
   "codemirror_mode": {
    "name": "ipython",
    "version": 3
   },
   "file_extension": ".py",
   "mimetype": "text/x-python",
   "name": "python",
   "nbconvert_exporter": "python",
   "pygments_lexer": "ipython3",
   "version": "3.10.13"
  }
 },
 "nbformat": 4,
 "nbformat_minor": 4
}
